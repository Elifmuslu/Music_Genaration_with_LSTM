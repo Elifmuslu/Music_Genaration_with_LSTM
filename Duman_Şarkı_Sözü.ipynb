{
  "nbformat": 4,
  "nbformat_minor": 0,
  "metadata": {
    "colab": {
      "name": "Duman_Şarkı_Sözü",
      "provenance": [],
      "collapsed_sections": [],
      "authorship_tag": "ABX9TyNkeSDjE8XFMsETNjoGzjDA",
      "include_colab_link": true
    },
    "kernelspec": {
      "display_name": "Python 3",
      "name": "python3"
    }
  },
  "cells": [
    {
      "cell_type": "markdown",
      "metadata": {
        "id": "view-in-github",
        "colab_type": "text"
      },
      "source": [
        "<a href=\"https://colab.research.google.com/github/Elifmuslu/Music_Genaration_with_LSTM/blob/main/Duman_%C5%9Eark%C4%B1_S%C3%B6z%C3%BC.ipynb\" target=\"_parent\"><img src=\"https://colab.research.google.com/assets/colab-badge.svg\" alt=\"Open In Colab\"/></a>"
      ]
    },
    {
      "cell_type": "code",
      "metadata": {
        "id": "IC8JbP2-SKBM"
      },
      "source": [
        "import requests\r\n",
        "import csv\r\n",
        "from bs4 import BeautifulSoup, NavigableString, Tag\r\n",
        "from google.colab import files\r\n",
        "import pandas as pd"
      ],
      "execution_count": null,
      "outputs": []
    },
    {
      "cell_type": "code",
      "metadata": {
        "colab": {
          "base_uri": "https://localhost:8080/"
        },
        "id": "m_1ysEL7SKFp",
        "outputId": "708aedf1-ee9d-49da-ee2a-c802f959f2e7"
      },
      "source": [
        "# Sanatşı sayfasındaki verilerin alınması\r\n",
        "sayfa = requests.get('https://sarki.alternatifim.com/sarkici/duman')\r\n",
        "soup = BeautifulSoup(sayfa.text, 'html.parser')\r\n",
        "\r\n",
        "# şarkıların bulunduğu div'in seçilmesi\r\n",
        "sarkilar = soup.find(class_='sarkisozu')\r\n",
        "\r\n",
        "# div etiketinin içindeki <a> taglarının seçilmesi\r\n",
        "sarki_adlari = sarkilar.find_all('a')\r\n",
        "print(sarki_adlari)"
      ],
      "execution_count": null,
      "outputs": [
        {
          "output_type": "stream",
          "text": [
            "[<a href=\"/sarkici/duman/ah\">Ah</a>, <a href=\"/sarkici/duman/akibet\">Akıbet</a>, <a href=\"/sarkici/duman/al-beni-yar\">Al beni yar</a>, <a href=\"/sarkici/duman/aman-aman\">Aman Aman</a>, <a href=\"/sarkici/duman/bal\">Bal</a>, <a href=\"/sarkici/duman/balik\">Balık</a>, <a href=\"/sarkici/duman/bebek\">Bebek</a>, <a href=\"/sarkici/duman/belki-alisman-lazim\">Belki Alışman Lazım</a>, <a href=\"/sarkici/duman/bu-aksam\">Bu Akşam</a>, <a href=\"/sarkici/duman/bu-ask-beni-yorar\">Bu Aşk Beni Yorar</a>, <a href=\"/sarkici/duman/cile-bulbulum\">Çile Bülbülüm</a>, <a href=\"/sarkici/duman/daglar-baglar\">Dağlar Bağlar</a>, <a href=\"/sarkici/duman/deli\">Deli</a>, <a href=\"/sarkici/duman/dibine-kadar\">Dibine Kadar</a>, <a href=\"/sarkici/duman/don-ne-olur\">Dön Ne Olur</a>, <a href=\"/sarkici/duman/donek\">Dönek</a>, <a href=\"/sarkici/duman/elimde-ki-saz-yeter-canima\">Elimde Ki Saz Yeter Canıma</a>, <a href=\"/sarkici/duman/elimdeki-saz\">Elimdeki  Saz</a>, <a href=\"/sarkici/duman/ellerin-ellerime\">Ellerin Ellerime</a>, <a href=\"/sarkici/duman/en-guzel-gunum-gecem\">En Güzel Günüm Gecem</a>, <a href=\"/sarkici/duman/eski-koprunun-altinda\">Eski Köprünün Altında</a>, <a href=\"/sarkici/duman/eyvallah\">Eyvallah</a>, <a href=\"/sarkici/duman/gecmis-olsun\">Geçmiş Olsun</a>, <a href=\"/sarkici/duman/gonul\">Gönül</a>, <a href=\"/sarkici/duman/gonul-ister\">Gönül İster</a>, <a href=\"#ReklamiGizle\" onclick=\"reklamgizle()\" rel=\"nofollow\">[ reklamı gizle / hide ads ]</a>, <a href=\"/sarkici/duman/gozleri-kanli\">Gözleri Kanlı</a>, <a href=\"/sarkici/duman/gurbet\">Gurbet</a>, <a href=\"/sarkici/duman/haberin-yok-oluyorum\">Haberin Yok Ölüyorum</a>, <a href=\"/sarkici/duman/halimiz-duman\">Halimiz Duman</a>, <a href=\"/sarkici/duman/hatun\">Hatun</a>, <a href=\"/sarkici/duman/hayati-yasa\">Hayatı Yaşa</a>, <a href=\"/sarkici/duman/hayvan\">Hayvan</a>, <a href=\"/sarkici/duman/helal-olsun\">Helal Olsun</a>, <a href=\"/sarkici/duman/her-seyi-yak\">Her Şeyi Yak</a>, <a href=\"/sarkici/duman/herseyi-yak\">Herşeyi Yak</a>, <a href=\"/sarkici/duman/icerim-ben-bu-aksam\">İçerim Ben Bu Akşam</a>, <a href=\"/sarkici/duman/istanbul\">İstanbul</a>, <a href=\"/sarkici/duman/iyi-de-bana-ne\">İyi De Bana Ne</a>, <a href=\"/sarkici/duman/karanlikta\">Karanlıkta</a>, <a href=\"/sarkici/duman/kirmis-kalbini\">Kırmış Kalbini</a>, <a href=\"/sarkici/duman/kiyamet\">Kıyamet</a>, <a href=\"/sarkici/duman/kim-neden-oldu-ft-ceza\">Kim Neden Öldü (ft. ceza)</a>, <a href=\"/sarkici/duman/kolay-degildir\">Kolay Değildir</a>, <a href=\"/sarkici/duman/kopekler\">Köpekler</a>, <a href=\"/sarkici/duman/koprualti\">Köprüaltı</a>, <a href=\"/sarkici/duman/kumbela\">Kumbela</a>, <a href=\"/sarkici/duman/manasi-yok\">Manası Yok</a>, <a href=\"/sarkici/duman/masal\">Masal</a>, <a href=\"/sarkici/duman/melankoli\">Melankoli</a>, <a href=\"/sarkici/duman/melek\">Melek</a>, <a class=\"first\" data-action=\"first\" href=\"#\">«</a>, <a class=\"previous\" data-action=\"previous\" href=\"#\">‹</a>, <a class=\"next\" data-action=\"next\" href=\"#\">›</a>, <a class=\"last\" data-action=\"last\" href=\"#\">»</a>]\n"
          ],
          "name": "stdout"
        }
      ]
    },
    {
      "cell_type": "code",
      "metadata": {
        "colab": {
          "base_uri": "https://localhost:8080/"
        },
        "id": "7i1436M_SKIP",
        "outputId": "0ccb203f-3307-4ad8-99f4-eef3def0c815"
      },
      "source": [
        "# sarki sözlerinin yazılacağı dosyanın oluşturulması ve başlık satırının eklenmesi\r\n",
        "f = csv.writer(open('Duman.csv', 'w', newline='', encoding='utf-8-sig'))\r\n",
        "f.writerow(['Sanatçı Adı','Şarkı Id','Şarkı Adı', 'Şarkı Sözü','Satır No'])\r\n",
        "sarki_id=1 # her bir şarkıya ait id\r\n",
        "\r\n",
        "# her bir şarkı için dön\r\n",
        "for sarki in sarki_adlari:\r\n",
        "    sarki_adi = sarki.contents[0]\r\n",
        "    print(sarki_adi)\r\n",
        "    sarki_link = \"https://sarki.alternatifim.com\"+sarki.get('href')\r\n",
        "    sarki_sayfasi = requests.get(sarki_link)\r\n",
        "    soup = BeautifulSoup(sarki_sayfasi.text, 'html.parser') # sözlerin bulunduğu sayfayı parse et\r\n",
        "    \r\n",
        "    sarki_sozu = soup.findAll(class_='sarkisozu') # sadece sözlerin bulunduğu div'i seç\r\n",
        "    satir_no=1\r\n",
        "    \r\n",
        "    # her bir şarkı sözü için dön\r\n",
        "    for sarki_satirlar in sarki_sozu:\r\n",
        "        for br in sarki_satirlar.findAll('br'): # sözleri satır satır kaydedeceğimiz için her bir <br> tagından böl\r\n",
        "            sarki_satir=br.previous_sibling # birinci satıra geri git\r\n",
        "            \r\n",
        "            # <br> taglarını sil ve sözleri satır satı kaydet\r\n",
        "            if not (sarki_satir and isinstance(sarki_satir,NavigableString)):\r\n",
        "                continue\r\n",
        "            sarki_satir_2 = sarki_satir.nextSibling\r\n",
        "            \r\n",
        "            if sarki_satir_2 and isinstance(sarki_satir_2,Tag) and sarki_satir_2.name == 'br':\r\n",
        "                soz = str(sarki_satir).strip()\r\n",
        "                if soz:\r\n",
        "                    f.writerow(['Duman',sarki_id,str(sarki_adi).strip(), soz,satir_no]) \r\n",
        "                    satir_no=satir_no+1\r\n",
        "    sarki_id=sarki_id+1;"
      ],
      "execution_count": null,
      "outputs": [
        {
          "output_type": "stream",
          "text": [
            "Ah\n",
            "Akıbet\n",
            "Al beni yar\n",
            "Aman Aman\n",
            "Bal\n",
            "Balık\n",
            "Bebek\n",
            "Belki Alışman Lazım\n",
            "Bu Akşam\n",
            "Bu Aşk Beni Yorar\n",
            "Çile Bülbülüm\n",
            "Dağlar Bağlar\n",
            "Deli\n",
            "Dibine Kadar\n",
            "Dön Ne Olur\n",
            "Dönek\n",
            "Elimde Ki Saz Yeter Canıma\n",
            "Elimdeki  Saz\n",
            "Ellerin Ellerime\n",
            "En Güzel Günüm Gecem\n",
            "Eski Köprünün Altında\n",
            "Eyvallah\n",
            "Geçmiş Olsun\n",
            "Gönül\n",
            "Gönül İster\n",
            "[ reklamı gizle / hide ads ]\n",
            "Gözleri Kanlı\n",
            "Gurbet\n",
            "Haberin Yok Ölüyorum\n",
            "Halimiz Duman\n",
            "Hatun\n",
            "Hayatı Yaşa\n",
            "Hayvan\n",
            "Helal Olsun\n",
            "Her Şeyi Yak\n",
            "Herşeyi Yak\n",
            "İçerim Ben Bu Akşam\n",
            "İstanbul\n",
            "İyi De Bana Ne\n",
            "Karanlıkta\n",
            "Kırmış Kalbini\n",
            "Kıyamet\n",
            "Kim Neden Öldü (ft. ceza)\n",
            "Kolay Değildir\n",
            "Köpekler\n",
            "Köprüaltı\n",
            "Kumbela\n",
            "Manası Yok\n",
            "Masal\n",
            "Melankoli\n",
            "Melek\n",
            "«\n",
            "‹\n",
            "›\n",
            "»\n"
          ],
          "name": "stdout"
        }
      ]
    },
    {
      "cell_type": "code",
      "metadata": {
        "colab": {
          "base_uri": "https://localhost:8080/",
          "height": 17
        },
        "id": "CVhmsxmPTQWc",
        "outputId": "01d2adea-e114-4e72-8d59-f4e6b3cc28e7"
      },
      "source": [
        "files.download('Duman.csv')"
      ],
      "execution_count": null,
      "outputs": [
        {
          "output_type": "display_data",
          "data": {
            "application/javascript": [
              "\n",
              "    async function download(id, filename, size) {\n",
              "      if (!google.colab.kernel.accessAllowed) {\n",
              "        return;\n",
              "      }\n",
              "      const div = document.createElement('div');\n",
              "      const label = document.createElement('label');\n",
              "      label.textContent = `Downloading \"${filename}\": `;\n",
              "      div.appendChild(label);\n",
              "      const progress = document.createElement('progress');\n",
              "      progress.max = size;\n",
              "      div.appendChild(progress);\n",
              "      document.body.appendChild(div);\n",
              "\n",
              "      const buffers = [];\n",
              "      let downloaded = 0;\n",
              "\n",
              "      const channel = await google.colab.kernel.comms.open(id);\n",
              "      // Send a message to notify the kernel that we're ready.\n",
              "      channel.send({})\n",
              "\n",
              "      for await (const message of channel.messages) {\n",
              "        // Send a message to notify the kernel that we're ready.\n",
              "        channel.send({})\n",
              "        if (message.buffers) {\n",
              "          for (const buffer of message.buffers) {\n",
              "            buffers.push(buffer);\n",
              "            downloaded += buffer.byteLength;\n",
              "            progress.value = downloaded;\n",
              "          }\n",
              "        }\n",
              "      }\n",
              "      const blob = new Blob(buffers, {type: 'application/binary'});\n",
              "      const a = document.createElement('a');\n",
              "      a.href = window.URL.createObjectURL(blob);\n",
              "      a.download = filename;\n",
              "      div.appendChild(a);\n",
              "      a.click();\n",
              "      div.remove();\n",
              "    }\n",
              "  "
            ],
            "text/plain": [
              "<IPython.core.display.Javascript object>"
            ]
          },
          "metadata": {
            "tags": []
          }
        },
        {
          "output_type": "display_data",
          "data": {
            "application/javascript": [
              "download(\"download_187815ee-e415-4235-a527-cb7c1fd05de2\", \"Duman.csv\", 41121)"
            ],
            "text/plain": [
              "<IPython.core.display.Javascript object>"
            ]
          },
          "metadata": {
            "tags": []
          }
        }
      ]
    },
    {
      "cell_type": "code",
      "metadata": {
        "colab": {
          "resources": {
            "http://localhost:8080/nbextensions/google.colab/files.js": {
              "data": "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",
              "ok": true,
              "headers": [
                [
                  "content-type",
                  "application/javascript"
                ]
              ],
              "status": 200,
              "status_text": ""
            }
          },
          "base_uri": "https://localhost:8080/",
          "height": 86
        },
        "id": "o5Z7MJfP8KvE",
        "outputId": "facafa5b-43f5-4620-87b4-d8a91aa75b37"
      },
      "source": [
        "from google.colab import files\r\n",
        "\r\n",
        "uploaded = files.upload()\r\n",
        "\r\n",
        "for fn in uploaded.keys():\r\n",
        "  print('User uploaded file \"{name}\" with length {length} bytes'.format(\r\n",
        "      name=fn, length=len(uploaded[fn])))"
      ],
      "execution_count": null,
      "outputs": [
        {
          "output_type": "display_data",
          "data": {
            "text/html": [
              "\n",
              "     <input type=\"file\" id=\"files-fd1479a2-da75-47ab-b4c3-6c7baf25c41f\" name=\"files[]\" multiple disabled\n",
              "        style=\"border:none\" />\n",
              "     <output id=\"result-fd1479a2-da75-47ab-b4c3-6c7baf25c41f\">\n",
              "      Upload widget is only available when the cell has been executed in the\n",
              "      current browser session. Please rerun this cell to enable.\n",
              "      </output>\n",
              "      <script src=\"/nbextensions/google.colab/files.js\"></script> "
            ],
            "text/plain": [
              "<IPython.core.display.HTML object>"
            ]
          },
          "metadata": {
            "tags": []
          }
        },
        {
          "output_type": "stream",
          "text": [
            "Saving Duman.csv to Duman.csv\n",
            "User uploaded file \"Duman.csv\" with length 41121 bytes\n"
          ],
          "name": "stdout"
        }
      ]
    },
    {
      "cell_type": "code",
      "metadata": {
        "colab": {
          "base_uri": "https://localhost:8080/",
          "height": 191
        },
        "id": "rsDsWTHmSKTC",
        "outputId": "32596879-e847-468d-c9d8-a70e27966256"
      },
      "source": [
        "dataset = pd.read_csv('Duman.csv', encoding = \"utf_8\")\r\n",
        "dataset.head()"
      ],
      "execution_count": null,
      "outputs": [
        {
          "output_type": "execute_result",
          "data": {
            "text/html": [
              "<div>\n",
              "<style scoped>\n",
              "    .dataframe tbody tr th:only-of-type {\n",
              "        vertical-align: middle;\n",
              "    }\n",
              "\n",
              "    .dataframe tbody tr th {\n",
              "        vertical-align: top;\n",
              "    }\n",
              "\n",
              "    .dataframe thead th {\n",
              "        text-align: right;\n",
              "    }\n",
              "</style>\n",
              "<table border=\"1\" class=\"dataframe\">\n",
              "  <thead>\n",
              "    <tr style=\"text-align: right;\">\n",
              "      <th></th>\n",
              "      <th>Sanatçı Adı</th>\n",
              "      <th>Şarkı Id</th>\n",
              "      <th>Şarkı Adı</th>\n",
              "      <th>Şarkı Sözü</th>\n",
              "      <th>Satır No</th>\n",
              "    </tr>\n",
              "  </thead>\n",
              "  <tbody>\n",
              "    <tr>\n",
              "      <th>0</th>\n",
              "      <td>Duman</td>\n",
              "      <td>1</td>\n",
              "      <td>Ah</td>\n",
              "      <td>Yarışmadı</td>\n",
              "      <td>1</td>\n",
              "    </tr>\n",
              "    <tr>\n",
              "      <th>1</th>\n",
              "      <td>Duman</td>\n",
              "      <td>1</td>\n",
              "      <td>Ah</td>\n",
              "      <td>Yenilmedi</td>\n",
              "      <td>2</td>\n",
              "    </tr>\n",
              "    <tr>\n",
              "      <th>2</th>\n",
              "      <td>Duman</td>\n",
              "      <td>1</td>\n",
              "      <td>Ah</td>\n",
              "      <td>Açık seçik sizle oynamadı</td>\n",
              "      <td>3</td>\n",
              "    </tr>\n",
              "    <tr>\n",
              "      <th>3</th>\n",
              "      <td>Duman</td>\n",
              "      <td>1</td>\n",
              "      <td>Ah</td>\n",
              "      <td>Gerilmedi</td>\n",
              "      <td>4</td>\n",
              "    </tr>\n",
              "    <tr>\n",
              "      <th>4</th>\n",
              "      <td>Duman</td>\n",
              "      <td>1</td>\n",
              "      <td>Ah</td>\n",
              "      <td>Sanılmasın yine basmış onu bulantılar</td>\n",
              "      <td>5</td>\n",
              "    </tr>\n",
              "  </tbody>\n",
              "</table>\n",
              "</div>"
            ],
            "text/plain": [
              "  Sanatçı Adı  Şarkı Id  ...                             Şarkı Sözü Satır No\n",
              "0       Duman         1  ...                              Yarışmadı        1\n",
              "1       Duman         1  ...                              Yenilmedi        2\n",
              "2       Duman         1  ...              Açık seçik sizle oynamadı        3\n",
              "3       Duman         1  ...                              Gerilmedi        4\n",
              "4       Duman         1  ...  Sanılmasın yine basmış onu bulantılar        5\n",
              "\n",
              "[5 rows x 5 columns]"
            ]
          },
          "metadata": {
            "tags": []
          },
          "execution_count": 3
        }
      ]
    },
    {
      "cell_type": "code",
      "metadata": {
        "id": "BHXP1TbF8Xo7"
      },
      "source": [
        "import requests\r\n",
        "import csv\r\n",
        "from bs4 import BeautifulSoup, NavigableString, Tag\r\n",
        "from google.colab import files\r\n",
        "import pandas as pd"
      ],
      "execution_count": null,
      "outputs": []
    },
    {
      "cell_type": "code",
      "metadata": {
        "id": "tRLzKLRRPgT9"
      },
      "source": [
        "from tensorflow.keras.preprocessing.sequence import pad_sequences\r\n",
        "from tensorflow.keras.layers import Embedding, LSTM, Dense, Dropout, Bidirectional\r\n",
        "from tensorflow.keras.preprocessing.text import Tokenizer\r\n",
        "from tensorflow.keras.models import Sequential\r\n",
        "from tensorflow.keras.optimizers import Adam\r\n",
        "from tensorflow.keras import regularizers\r\n",
        "import tensorflow as tf\r\n",
        "from tensorflow import keras\r\n",
        "import tensorflow.keras.utils as ku \r\n",
        "import numpy as np \r\n",
        "import os"
      ],
      "execution_count": null,
      "outputs": []
    },
    {
      "cell_type": "code",
      "metadata": {
        "id": "CWRbeGmZTt6E"
      },
      "source": [
        "def processFirstLine(lyrics, songID, songName, row):\r\n",
        "    lyrics.append(row['Şarkı Sözü'] + '\\n')\r\n",
        "    songID.append(row['Şarkı Id'])\r\n",
        "    songName.append(row['Şarkı Adı'])\r\n",
        "    return lyrics,songID,songName\r\n",
        "  \r\n",
        "# Boş listeleri tanımlayalım (lyrics , songID , songName) \r\n",
        "lyrics = []\r\n",
        "songID = []\r\n",
        "songName = []\r\n",
        "\r\n",
        "# songNumber verisetindeki şarkının sırasını belirtir.\r\n",
        "songNumber = 1\r\n",
        "# i veisetindeki şarkı sözünün sırasını belirtir.\r\n",
        "i = 0\r\n",
        "isFirstLine = True\r\n",
        "# Her bir satırdaki verileri sırası ile birleştirelim.\r\n",
        "for index,row in dataset.iterrows():\r\n",
        "    if(songNumber == row['Şarkı Id']):\r\n",
        "        if (isFirstLine):\r\n",
        "            lyrics,songID,songName = processFirstLine(lyrics,songID,songName,row)\r\n",
        "            isFirstLine = False\r\n",
        "        else :\r\n",
        "            # Eğer aynı şarkıdaysak birleştirmeye devam edelim  \r\n",
        "            lyrics[i] +=  row['Şarkı Sözü'] + '\\n'\r\n",
        "    # Aynı şarkı için söz birleştirme işlemi bittiyse bir sonrarki şarkıya geç:   \r\n",
        "    else :\r\n",
        "        lyrics,songID,songName = processFirstLine(lyrics,songID,songName,row)\r\n",
        "        songNumber = row['Şarkı Id']\r\n",
        "        i+=1"
      ],
      "execution_count": null,
      "outputs": []
    },
    {
      "cell_type": "code",
      "metadata": {
        "id": "4NjWPiiuUUC_"
      },
      "source": [
        "# Sözleri .txt dosyasına kaydedelim\r\n",
        "with open('dumanlyrics.txt', 'w',encoding=\"utf-8\") as filehandle:  \r\n",
        "    for listitem in lyrics:\r\n",
        "        filehandle.write('%s\\n' % listitem)"
      ],
      "execution_count": null,
      "outputs": []
    },
    {
      "cell_type": "code",
      "metadata": {
        "id": "bnflB0baUZZW"
      },
      "source": [
        "# yeni verisetini yükle ve tüm karakterleri küçük harfe dönüştür :\r\n",
        "textFileName = '/content/dumanlyrics.txt'\r\n",
        "raw_text = open(textFileName, encoding = 'UTF-8').read()\r\n",
        "raw_text = raw_text.lower()"
      ],
      "execution_count": null,
      "outputs": []
    },
    {
      "cell_type": "code",
      "metadata": {
        "id": "jwzorw31Umpx"
      },
      "source": [
        "# her harfi int türünde dönüştürelim\r\n",
        "chars = sorted(list(set(raw_text)))\r\n",
        "int_chars = dict((i, c) for i, c in enumerate(chars))\r\n",
        "chars_int = dict((i, c) for c, i in enumerate(chars))"
      ],
      "execution_count": null,
      "outputs": []
    },
    {
      "cell_type": "code",
      "metadata": {
        "colab": {
          "base_uri": "https://localhost:8080/"
        },
        "id": "WRP1gcDTUnVZ",
        "outputId": "38156208-0115-415a-901e-ca759f90a893"
      },
      "source": [
        "\r\n",
        "n_chars = len(raw_text)\r\n",
        "n_vocab = len(chars)\r\n",
        "print('Toplam karakter sayısı :'  , n_chars) # number of all the characters in lyricsText.txt dosyasındaki tüm harf sayısı\r\n",
        "print('Unique karakter sayısı : ', n_vocab) # farklı harakter sayısı"
      ],
      "execution_count": null,
      "outputs": [
        {
          "output_type": "stream",
          "text": [
            "Toplam karakter sayısı : 19758\n",
            "Unique karakter sayısı :  55\n"
          ],
          "name": "stdout"
        }
      ]
    },
    {
      "cell_type": "code",
      "metadata": {
        "colab": {
          "base_uri": "https://localhost:8080/"
        },
        "id": "FPLjVF7NUqOo",
        "outputId": "bd6ce53c-8fe7-4f06-f154-0b17bba6cff5"
      },
      "source": [
        "# verisetinin işlenmesi:\r\n",
        "seq_len = 32\r\n",
        "data_X = []\r\n",
        "data_y = []\r\n",
        "for i in range(0, n_chars - seq_len, 1):\r\n",
        "    # Input Sequeance(Input olarak kullanılacak)\r\n",
        "    seq_in  = raw_text[i:i+seq_len]\r\n",
        "    # Output sequence (Target olarak kullanılacak)\r\n",
        "    seq_out = raw_text[i + seq_len]\r\n",
        "    # Input verisini data_X olarak saklayalım\r\n",
        "    data_X.append([chars_int[char] for char in seq_in])\r\n",
        "    # Target verilerini data_y olarak saklayalım\r\n",
        "    data_y.append(chars_int[seq_out])\r\n",
        "n_patterns = len(data_X)\r\n",
        "print( 'Eğitim setindeki toplam veri sayısı : ', n_patterns)"
      ],
      "execution_count": null,
      "outputs": [
        {
          "output_type": "stream",
          "text": [
            "Eğitim setindeki toplam veri sayısı :  19726\n"
          ],
          "name": "stdout"
        }
      ]
    },
    {
      "cell_type": "code",
      "metadata": {
        "colab": {
          "base_uri": "https://localhost:8080/",
          "height": 191
        },
        "id": "dNLKES7O8RSP",
        "outputId": "b2d1a1ca-450d-46e2-a6a7-5ba5f0189244"
      },
      "source": [
        "import io\r\n",
        "dataset = pd.read_csv(io.BytesIO(uploaded['Duman.csv']))\r\n",
        "dataset.head()"
      ],
      "execution_count": null,
      "outputs": [
        {
          "output_type": "execute_result",
          "data": {
            "text/html": [
              "<div>\n",
              "<style scoped>\n",
              "    .dataframe tbody tr th:only-of-type {\n",
              "        vertical-align: middle;\n",
              "    }\n",
              "\n",
              "    .dataframe tbody tr th {\n",
              "        vertical-align: top;\n",
              "    }\n",
              "\n",
              "    .dataframe thead th {\n",
              "        text-align: right;\n",
              "    }\n",
              "</style>\n",
              "<table border=\"1\" class=\"dataframe\">\n",
              "  <thead>\n",
              "    <tr style=\"text-align: right;\">\n",
              "      <th></th>\n",
              "      <th>Sanatçı Adı</th>\n",
              "      <th>Şarkı Id</th>\n",
              "      <th>Şarkı Adı</th>\n",
              "      <th>Şarkı Sözü</th>\n",
              "      <th>Satır No</th>\n",
              "    </tr>\n",
              "  </thead>\n",
              "  <tbody>\n",
              "    <tr>\n",
              "      <th>0</th>\n",
              "      <td>Duman</td>\n",
              "      <td>1</td>\n",
              "      <td>Ah</td>\n",
              "      <td>Yarışmadı</td>\n",
              "      <td>1</td>\n",
              "    </tr>\n",
              "    <tr>\n",
              "      <th>1</th>\n",
              "      <td>Duman</td>\n",
              "      <td>1</td>\n",
              "      <td>Ah</td>\n",
              "      <td>Yenilmedi</td>\n",
              "      <td>2</td>\n",
              "    </tr>\n",
              "    <tr>\n",
              "      <th>2</th>\n",
              "      <td>Duman</td>\n",
              "      <td>1</td>\n",
              "      <td>Ah</td>\n",
              "      <td>Açık seçik sizle oynamadı</td>\n",
              "      <td>3</td>\n",
              "    </tr>\n",
              "    <tr>\n",
              "      <th>3</th>\n",
              "      <td>Duman</td>\n",
              "      <td>1</td>\n",
              "      <td>Ah</td>\n",
              "      <td>Gerilmedi</td>\n",
              "      <td>4</td>\n",
              "    </tr>\n",
              "    <tr>\n",
              "      <th>4</th>\n",
              "      <td>Duman</td>\n",
              "      <td>1</td>\n",
              "      <td>Ah</td>\n",
              "      <td>Sanılmasın yine basmış onu bulantılar</td>\n",
              "      <td>5</td>\n",
              "    </tr>\n",
              "  </tbody>\n",
              "</table>\n",
              "</div>"
            ],
            "text/plain": [
              "  Sanatçı Adı  Şarkı Id  ...                             Şarkı Sözü Satır No\n",
              "0       Duman         1  ...                              Yarışmadı        1\n",
              "1       Duman         1  ...                              Yenilmedi        2\n",
              "2       Duman         1  ...              Açık seçik sizle oynamadı        3\n",
              "3       Duman         1  ...                              Gerilmedi        4\n",
              "4       Duman         1  ...  Sanılmasın yine basmış onu bulantılar        5\n",
              "\n",
              "[5 rows x 5 columns]"
            ]
          },
          "metadata": {
            "tags": []
          },
          "execution_count": 12
        }
      ]
    },
    {
      "cell_type": "code",
      "metadata": {
        "id": "8UBEb_ThT0ID"
      },
      "source": [
        "tokenizer = Tokenizer()\r\n",
        "# !wget --no-check-certificate \\\r\n",
        "#     https://storage.googleapis.com/laurencemoroney-blog.appspot.com/sonnets.txt \\\r\n",
        "#     -O /tmp/sonnets.txt\r\n",
        "data = open('/content/dumanlyrics.txt').read()\r\n",
        "\r\n",
        "corpus = data.lower().split(\"\\n\")\r\n",
        "\r\n",
        "\r\n",
        "tokenizer.fit_on_texts(corpus)\r\n",
        "total_words = len(tokenizer.word_index) + 1\r\n",
        "\r\n",
        "# create input sequences using list of tokens\r\n",
        "input_sequences = []\r\n",
        "for line in corpus:\r\n",
        "    token_list = tokenizer.texts_to_sequences([line])[0]\r\n",
        "    for i in range(1, len(token_list)):\r\n",
        "        n_gram_sequence = token_list[:i+1]\r\n",
        "        input_sequences.append(n_gram_sequence)\r\n",
        "\r\n",
        "\r\n",
        "# pad sequences \r\n",
        "max_sequence_len = max([len(x) for x in input_sequences])\r\n",
        "input_sequences = np.array(pad_sequences(input_sequences, maxlen=max_sequence_len, padding='pre'))\r\n",
        "\r\n",
        "# create predictors and label\r\n",
        "predictors, label = input_sequences[:,:-1],input_sequences[:,-1]\r\n",
        "\r\n",
        "label = ku.to_categorical(label, num_classes=total_words)"
      ],
      "execution_count": null,
      "outputs": []
    },
    {
      "cell_type": "code",
      "metadata": {
        "colab": {
          "base_uri": "https://localhost:8080/"
        },
        "id": "Gc78czWkT0K2",
        "outputId": "19e6a205-620c-4cc6-9b8d-202e3d61d23f"
      },
      "source": [
        "model = Sequential()\r\n",
        "model.add(Embedding(total_words, 100, input_length=max_sequence_len-1))\r\n",
        "model.add(Bidirectional(LSTM(64, return_sequences = True)))\r\n",
        "model.add(Dropout(0.2))\r\n",
        "model.add(LSTM(100))\r\n",
        "model.add(Dense(total_words/2, activation='relu', kernel_regularizer=regularizers.l2(0.01)))\r\n",
        "model.add(Dense(total_words, activation='softmax'))\r\n",
        "model.compile(loss='categorical_crossentropy', optimizer='adam', metrics=['accuracy'])\r\n",
        "print(model.summary())"
      ],
      "execution_count": null,
      "outputs": [
        {
          "output_type": "stream",
          "text": [
            "Model: \"sequential\"\n",
            "_________________________________________________________________\n",
            "Layer (type)                 Output Shape              Param #   \n",
            "=================================================================\n",
            "embedding (Embedding)        (None, 89, 100)           131500    \n",
            "_________________________________________________________________\n",
            "bidirectional (Bidirectional (None, 89, 128)           84480     \n",
            "_________________________________________________________________\n",
            "dropout (Dropout)            (None, 89, 128)           0         \n",
            "_________________________________________________________________\n",
            "lstm_1 (LSTM)                (None, 100)               91600     \n",
            "_________________________________________________________________\n",
            "dense (Dense)                (None, 657)               66357     \n",
            "_________________________________________________________________\n",
            "dense_1 (Dense)              (None, 1315)              865270    \n",
            "=================================================================\n",
            "Total params: 1,239,207\n",
            "Trainable params: 1,239,207\n",
            "Non-trainable params: 0\n",
            "_________________________________________________________________\n",
            "None\n"
          ],
          "name": "stdout"
        }
      ]
    },
    {
      "cell_type": "code",
      "metadata": {
        "colab": {
          "base_uri": "https://localhost:8080/"
        },
        "id": "CC9I_UhVT0Ot",
        "outputId": "90a442cb-4810-4375-99f9-1389971cbfd3"
      },
      "source": [
        "history = model.fit(predictors, label, epochs=150, verbose=1)\r\n"
      ],
      "execution_count": null,
      "outputs": [
        {
          "output_type": "stream",
          "text": [
            "Epoch 1/150\n",
            "70/70 [==============================] - 19s 275ms/step - loss: 3.6470 - accuracy: 0.2206\n",
            "Epoch 2/150\n",
            "70/70 [==============================] - 13s 183ms/step - loss: 3.5570 - accuracy: 0.2416\n",
            "Epoch 3/150\n",
            "70/70 [==============================] - 13s 183ms/step - loss: 3.4895 - accuracy: 0.2546\n",
            "Epoch 4/150\n",
            "70/70 [==============================] - 13s 184ms/step - loss: 3.4196 - accuracy: 0.2653\n",
            "Epoch 5/150\n",
            "70/70 [==============================] - 13s 184ms/step - loss: 3.3202 - accuracy: 0.2734\n",
            "Epoch 6/150\n",
            "70/70 [==============================] - 13s 184ms/step - loss: 3.2400 - accuracy: 0.2837\n",
            "Epoch 7/150\n",
            "70/70 [==============================] - 13s 183ms/step - loss: 3.1653 - accuracy: 0.3051\n",
            "Epoch 8/150\n",
            "70/70 [==============================] - 13s 184ms/step - loss: 3.1784 - accuracy: 0.3047\n",
            "Epoch 9/150\n",
            "70/70 [==============================] - 13s 183ms/step - loss: 3.0569 - accuracy: 0.3351\n",
            "Epoch 10/150\n",
            "70/70 [==============================] - 13s 183ms/step - loss: 2.9713 - accuracy: 0.3481\n",
            "Epoch 11/150\n",
            "70/70 [==============================] - 13s 184ms/step - loss: 2.8738 - accuracy: 0.3700\n",
            "Epoch 12/150\n",
            "70/70 [==============================] - 13s 183ms/step - loss: 2.8290 - accuracy: 0.3727\n",
            "Epoch 13/150\n",
            "70/70 [==============================] - 13s 184ms/step - loss: 2.7950 - accuracy: 0.3758\n",
            "Epoch 14/150\n",
            "70/70 [==============================] - 13s 184ms/step - loss: 2.7511 - accuracy: 0.3879\n",
            "Epoch 15/150\n",
            "70/70 [==============================] - 13s 184ms/step - loss: 2.6631 - accuracy: 0.4166\n",
            "Epoch 16/150\n",
            "70/70 [==============================] - 13s 184ms/step - loss: 2.6200 - accuracy: 0.4125\n",
            "Epoch 17/150\n",
            "70/70 [==============================] - 13s 183ms/step - loss: 2.5831 - accuracy: 0.4210\n",
            "Epoch 18/150\n",
            "70/70 [==============================] - 13s 183ms/step - loss: 2.5078 - accuracy: 0.4412\n",
            "Epoch 19/150\n",
            "70/70 [==============================] - 13s 183ms/step - loss: 2.4578 - accuracy: 0.4573\n",
            "Epoch 20/150\n",
            "70/70 [==============================] - 13s 184ms/step - loss: 2.4044 - accuracy: 0.4617\n",
            "Epoch 21/150\n",
            "70/70 [==============================] - 13s 184ms/step - loss: 2.3938 - accuracy: 0.4680\n",
            "Epoch 22/150\n",
            "70/70 [==============================] - 13s 184ms/step - loss: 2.3348 - accuracy: 0.4787\n",
            "Epoch 23/150\n",
            "70/70 [==============================] - 13s 192ms/step - loss: 2.2765 - accuracy: 0.4846\n",
            "Epoch 24/150\n",
            "70/70 [==============================] - 13s 183ms/step - loss: 2.2389 - accuracy: 0.5007\n",
            "Epoch 25/150\n",
            "70/70 [==============================] - 13s 184ms/step - loss: 2.2009 - accuracy: 0.5159\n",
            "Epoch 26/150\n",
            "70/70 [==============================] - 13s 183ms/step - loss: 2.1429 - accuracy: 0.5338\n",
            "Epoch 27/150\n",
            "70/70 [==============================] - 13s 185ms/step - loss: 2.0885 - accuracy: 0.5539\n",
            "Epoch 28/150\n",
            "70/70 [==============================] - 13s 184ms/step - loss: 2.0658 - accuracy: 0.5508\n",
            "Epoch 29/150\n",
            "70/70 [==============================] - 13s 184ms/step - loss: 2.0392 - accuracy: 0.5638\n",
            "Epoch 30/150\n",
            "70/70 [==============================] - 13s 187ms/step - loss: 1.9684 - accuracy: 0.5866\n",
            "Epoch 31/150\n",
            "70/70 [==============================] - 13s 184ms/step - loss: 1.9389 - accuracy: 0.5906\n",
            "Epoch 32/150\n",
            "70/70 [==============================] - 13s 184ms/step - loss: 1.9111 - accuracy: 0.6004\n",
            "Epoch 33/150\n",
            "70/70 [==============================] - 13s 184ms/step - loss: 1.8722 - accuracy: 0.5991\n",
            "Epoch 34/150\n",
            "70/70 [==============================] - 13s 184ms/step - loss: 1.8344 - accuracy: 0.6246\n",
            "Epoch 35/150\n",
            "70/70 [==============================] - 13s 183ms/step - loss: 1.7860 - accuracy: 0.6443\n",
            "Epoch 36/150\n",
            "70/70 [==============================] - 13s 184ms/step - loss: 1.7464 - accuracy: 0.6492\n",
            "Epoch 37/150\n",
            "70/70 [==============================] - 13s 185ms/step - loss: 1.7419 - accuracy: 0.6456\n",
            "Epoch 38/150\n",
            "70/70 [==============================] - 13s 185ms/step - loss: 1.6863 - accuracy: 0.6689\n",
            "Epoch 39/150\n",
            "70/70 [==============================] - 13s 184ms/step - loss: 1.6497 - accuracy: 0.6694\n",
            "Epoch 40/150\n",
            "70/70 [==============================] - 13s 184ms/step - loss: 1.6318 - accuracy: 0.6850\n",
            "Epoch 41/150\n",
            "70/70 [==============================] - 13s 184ms/step - loss: 1.5939 - accuracy: 0.6966\n",
            "Epoch 42/150\n",
            "70/70 [==============================] - 13s 184ms/step - loss: 1.5689 - accuracy: 0.7043\n",
            "Epoch 43/150\n",
            "70/70 [==============================] - 13s 183ms/step - loss: 1.5262 - accuracy: 0.7123\n",
            "Epoch 44/150\n",
            "70/70 [==============================] - 13s 184ms/step - loss: 1.4864 - accuracy: 0.7284\n",
            "Epoch 45/150\n",
            "70/70 [==============================] - 13s 183ms/step - loss: 1.4549 - accuracy: 0.7329\n",
            "Epoch 46/150\n",
            "70/70 [==============================] - 13s 183ms/step - loss: 1.4155 - accuracy: 0.7530\n",
            "Epoch 47/150\n",
            "70/70 [==============================] - 13s 183ms/step - loss: 1.3778 - accuracy: 0.7642\n",
            "Epoch 48/150\n",
            "70/70 [==============================] - 13s 185ms/step - loss: 1.3453 - accuracy: 0.7696\n",
            "Epoch 49/150\n",
            "70/70 [==============================] - 13s 183ms/step - loss: 1.3176 - accuracy: 0.7808\n",
            "Epoch 50/150\n",
            "70/70 [==============================] - 13s 185ms/step - loss: 1.3038 - accuracy: 0.7749\n",
            "Epoch 51/150\n",
            "70/70 [==============================] - 13s 184ms/step - loss: 1.3085 - accuracy: 0.7826\n",
            "Epoch 52/150\n",
            "70/70 [==============================] - 13s 184ms/step - loss: 1.2692 - accuracy: 0.7843\n",
            "Epoch 53/150\n",
            "70/70 [==============================] - 13s 186ms/step - loss: 1.2400 - accuracy: 0.7875\n",
            "Epoch 54/150\n",
            "70/70 [==============================] - 13s 187ms/step - loss: 1.2132 - accuracy: 0.8009\n",
            "Epoch 55/150\n",
            "70/70 [==============================] - 13s 186ms/step - loss: 1.1913 - accuracy: 0.8125\n",
            "Epoch 56/150\n",
            "70/70 [==============================] - 13s 188ms/step - loss: 1.1552 - accuracy: 0.8192\n",
            "Epoch 57/150\n",
            "70/70 [==============================] - 13s 187ms/step - loss: 1.1397 - accuracy: 0.8273\n",
            "Epoch 58/150\n",
            "70/70 [==============================] - 13s 186ms/step - loss: 1.1195 - accuracy: 0.8233\n",
            "Epoch 59/150\n",
            "70/70 [==============================] - 13s 188ms/step - loss: 1.1024 - accuracy: 0.8327\n",
            "Epoch 60/150\n",
            "70/70 [==============================] - 13s 188ms/step - loss: 1.0818 - accuracy: 0.8394\n",
            "Epoch 61/150\n",
            "70/70 [==============================] - 13s 193ms/step - loss: 1.0706 - accuracy: 0.8362\n",
            "Epoch 62/150\n",
            "70/70 [==============================] - 13s 189ms/step - loss: 1.0549 - accuracy: 0.8434\n",
            "Epoch 63/150\n",
            "70/70 [==============================] - 13s 186ms/step - loss: 1.0359 - accuracy: 0.8483\n",
            "Epoch 64/150\n",
            "70/70 [==============================] - 13s 187ms/step - loss: 1.0538 - accuracy: 0.8380\n",
            "Epoch 65/150\n",
            "70/70 [==============================] - 13s 186ms/step - loss: 1.0116 - accuracy: 0.8515\n",
            "Epoch 66/150\n",
            "70/70 [==============================] - 13s 184ms/step - loss: 0.9887 - accuracy: 0.8609\n",
            "Epoch 67/150\n",
            "70/70 [==============================] - 13s 184ms/step - loss: 0.9673 - accuracy: 0.8631\n",
            "Epoch 68/150\n",
            "70/70 [==============================] - 13s 183ms/step - loss: 0.9486 - accuracy: 0.8667\n",
            "Epoch 69/150\n",
            "70/70 [==============================] - 13s 184ms/step - loss: 0.9272 - accuracy: 0.8774\n",
            "Epoch 70/150\n",
            "70/70 [==============================] - 13s 183ms/step - loss: 0.9146 - accuracy: 0.8752\n",
            "Epoch 71/150\n",
            "70/70 [==============================] - 13s 184ms/step - loss: 0.9064 - accuracy: 0.8653\n",
            "Epoch 72/150\n",
            "70/70 [==============================] - 13s 183ms/step - loss: 0.9044 - accuracy: 0.8707\n",
            "Epoch 73/150\n",
            "70/70 [==============================] - 13s 183ms/step - loss: 0.9072 - accuracy: 0.8698\n",
            "Epoch 74/150\n",
            "70/70 [==============================] - 13s 183ms/step - loss: 0.9074 - accuracy: 0.8640\n",
            "Epoch 75/150\n",
            "70/70 [==============================] - 13s 183ms/step - loss: 0.8653 - accuracy: 0.8801\n",
            "Epoch 76/150\n",
            "70/70 [==============================] - 13s 183ms/step - loss: 0.8383 - accuracy: 0.8944\n",
            "Epoch 77/150\n",
            "70/70 [==============================] - 13s 184ms/step - loss: 0.8259 - accuracy: 0.8913\n",
            "Epoch 78/150\n",
            "70/70 [==============================] - 13s 184ms/step - loss: 0.8210 - accuracy: 0.8864\n",
            "Epoch 79/150\n",
            "70/70 [==============================] - 13s 184ms/step - loss: 0.8457 - accuracy: 0.8796\n",
            "Epoch 80/150\n",
            "70/70 [==============================] - 13s 185ms/step - loss: 0.8127 - accuracy: 0.8846\n",
            "Epoch 81/150\n",
            "70/70 [==============================] - 13s 184ms/step - loss: 0.8095 - accuracy: 0.8868\n",
            "Epoch 82/150\n",
            "70/70 [==============================] - 13s 184ms/step - loss: 0.8090 - accuracy: 0.8841\n",
            "Epoch 83/150\n",
            "70/70 [==============================] - 13s 184ms/step - loss: 0.7800 - accuracy: 0.8989\n",
            "Epoch 84/150\n",
            "70/70 [==============================] - 13s 183ms/step - loss: 0.7545 - accuracy: 0.9002\n",
            "Epoch 85/150\n",
            "70/70 [==============================] - 13s 186ms/step - loss: 0.7594 - accuracy: 0.8926\n",
            "Epoch 86/150\n",
            "70/70 [==============================] - 13s 186ms/step - loss: 0.7384 - accuracy: 0.9007\n",
            "Epoch 87/150\n",
            "70/70 [==============================] - 13s 184ms/step - loss: 0.7357 - accuracy: 0.8998\n",
            "Epoch 88/150\n",
            "70/70 [==============================] - 13s 184ms/step - loss: 0.7121 - accuracy: 0.9007\n",
            "Epoch 89/150\n",
            "70/70 [==============================] - 13s 188ms/step - loss: 0.6998 - accuracy: 0.9051\n",
            "Epoch 90/150\n",
            "70/70 [==============================] - 13s 190ms/step - loss: 0.7020 - accuracy: 0.8998\n",
            "Epoch 91/150\n",
            "70/70 [==============================] - 13s 189ms/step - loss: 0.6932 - accuracy: 0.9051\n",
            "Epoch 92/150\n",
            "70/70 [==============================] - 13s 186ms/step - loss: 0.6827 - accuracy: 0.9047\n",
            "Epoch 93/150\n",
            "70/70 [==============================] - 13s 190ms/step - loss: 0.6799 - accuracy: 0.9051\n",
            "Epoch 94/150\n",
            "70/70 [==============================] - 13s 184ms/step - loss: 0.6849 - accuracy: 0.9051\n",
            "Epoch 95/150\n",
            "70/70 [==============================] - 13s 183ms/step - loss: 0.6933 - accuracy: 0.9029\n",
            "Epoch 96/150\n",
            "70/70 [==============================] - 13s 185ms/step - loss: 0.6789 - accuracy: 0.9043\n",
            "Epoch 97/150\n",
            "70/70 [==============================] - 13s 185ms/step - loss: 0.6664 - accuracy: 0.9029\n",
            "Epoch 98/150\n",
            "70/70 [==============================] - 13s 185ms/step - loss: 0.6496 - accuracy: 0.9092\n",
            "Epoch 99/150\n",
            "70/70 [==============================] - 13s 188ms/step - loss: 0.6424 - accuracy: 0.9038\n",
            "Epoch 100/150\n",
            "70/70 [==============================] - 13s 184ms/step - loss: 0.6451 - accuracy: 0.9029\n",
            "Epoch 101/150\n",
            "70/70 [==============================] - 13s 185ms/step - loss: 0.6302 - accuracy: 0.9043\n",
            "Epoch 102/150\n",
            "70/70 [==============================] - 13s 183ms/step - loss: 0.6220 - accuracy: 0.9074\n",
            "Epoch 103/150\n",
            "70/70 [==============================] - 13s 184ms/step - loss: 0.5988 - accuracy: 0.9128\n",
            "Epoch 104/150\n",
            "70/70 [==============================] - 13s 185ms/step - loss: 0.6116 - accuracy: 0.9065\n",
            "Epoch 105/150\n",
            "70/70 [==============================] - 13s 183ms/step - loss: 0.6092 - accuracy: 0.9105\n",
            "Epoch 106/150\n",
            "70/70 [==============================] - 13s 184ms/step - loss: 0.6116 - accuracy: 0.9074\n",
            "Epoch 107/150\n",
            "70/70 [==============================] - 13s 185ms/step - loss: 0.6746 - accuracy: 0.8881\n",
            "Epoch 108/150\n",
            "70/70 [==============================] - 13s 183ms/step - loss: 0.7014 - accuracy: 0.8841\n",
            "Epoch 109/150\n",
            "70/70 [==============================] - 13s 186ms/step - loss: 0.6667 - accuracy: 0.8886\n",
            "Epoch 110/150\n",
            "70/70 [==============================] - 13s 186ms/step - loss: 0.6074 - accuracy: 0.9043\n",
            "Epoch 111/150\n",
            "70/70 [==============================] - 13s 183ms/step - loss: 0.5759 - accuracy: 0.9163\n",
            "Epoch 112/150\n",
            "70/70 [==============================] - 13s 184ms/step - loss: 0.5603 - accuracy: 0.9145\n",
            "Epoch 113/150\n",
            "70/70 [==============================] - 13s 185ms/step - loss: 0.5543 - accuracy: 0.9136\n",
            "Epoch 114/150\n",
            "70/70 [==============================] - 13s 185ms/step - loss: 0.5389 - accuracy: 0.9150\n",
            "Epoch 115/150\n",
            "70/70 [==============================] - 13s 188ms/step - loss: 0.5420 - accuracy: 0.9136\n",
            "Epoch 116/150\n",
            "70/70 [==============================] - 13s 184ms/step - loss: 0.5366 - accuracy: 0.9136\n",
            "Epoch 117/150\n",
            "70/70 [==============================] - 13s 189ms/step - loss: 0.5384 - accuracy: 0.9145\n",
            "Epoch 118/150\n",
            "70/70 [==============================] - 13s 186ms/step - loss: 0.5436 - accuracy: 0.9096\n",
            "Epoch 119/150\n",
            "70/70 [==============================] - 13s 184ms/step - loss: 0.5557 - accuracy: 0.9047\n",
            "Epoch 120/150\n",
            "70/70 [==============================] - 13s 184ms/step - loss: 0.5347 - accuracy: 0.9128\n",
            "Epoch 121/150\n",
            "70/70 [==============================] - 13s 184ms/step - loss: 0.5250 - accuracy: 0.9172\n",
            "Epoch 122/150\n",
            "70/70 [==============================] - 13s 184ms/step - loss: 0.5343 - accuracy: 0.9101\n",
            "Epoch 123/150\n",
            "70/70 [==============================] - 13s 183ms/step - loss: 0.5358 - accuracy: 0.9105\n",
            "Epoch 124/150\n",
            "70/70 [==============================] - 13s 184ms/step - loss: 0.5308 - accuracy: 0.9119\n",
            "Epoch 125/150\n",
            "70/70 [==============================] - 13s 184ms/step - loss: 0.5195 - accuracy: 0.9123\n",
            "Epoch 126/150\n",
            "70/70 [==============================] - 13s 183ms/step - loss: 0.5036 - accuracy: 0.9128\n",
            "Epoch 127/150\n",
            "70/70 [==============================] - 13s 187ms/step - loss: 0.5027 - accuracy: 0.9145\n",
            "Epoch 128/150\n",
            "70/70 [==============================] - 13s 190ms/step - loss: 0.4930 - accuracy: 0.9150\n",
            "Epoch 129/150\n",
            "70/70 [==============================] - 13s 190ms/step - loss: 0.4843 - accuracy: 0.9154\n",
            "Epoch 130/150\n",
            "70/70 [==============================] - 13s 185ms/step - loss: 0.5142 - accuracy: 0.9056\n",
            "Epoch 131/150\n",
            "70/70 [==============================] - 13s 184ms/step - loss: 0.5234 - accuracy: 0.9047\n",
            "Epoch 132/150\n",
            "70/70 [==============================] - 13s 185ms/step - loss: 0.5045 - accuracy: 0.9181\n",
            "Epoch 133/150\n",
            "70/70 [==============================] - 13s 186ms/step - loss: 0.4830 - accuracy: 0.9145\n",
            "Epoch 134/150\n",
            "70/70 [==============================] - 13s 186ms/step - loss: 0.4907 - accuracy: 0.9132\n",
            "Epoch 135/150\n",
            "70/70 [==============================] - 13s 183ms/step - loss: 0.4834 - accuracy: 0.9168\n",
            "Epoch 136/150\n",
            "70/70 [==============================] - 13s 185ms/step - loss: 0.4704 - accuracy: 0.9181\n",
            "Epoch 137/150\n",
            "70/70 [==============================] - 13s 183ms/step - loss: 0.4767 - accuracy: 0.9154\n",
            "Epoch 138/150\n",
            "70/70 [==============================] - 13s 184ms/step - loss: 0.4714 - accuracy: 0.9132\n",
            "Epoch 139/150\n",
            "70/70 [==============================] - 13s 185ms/step - loss: 0.4814 - accuracy: 0.9119\n",
            "Epoch 140/150\n",
            "70/70 [==============================] - 13s 184ms/step - loss: 0.4786 - accuracy: 0.9065\n",
            "Epoch 141/150\n",
            "70/70 [==============================] - 13s 185ms/step - loss: 0.4700 - accuracy: 0.9145\n",
            "Epoch 142/150\n",
            "70/70 [==============================] - 13s 184ms/step - loss: 0.4705 - accuracy: 0.9123\n",
            "Epoch 143/150\n",
            "70/70 [==============================] - 13s 184ms/step - loss: 0.4734 - accuracy: 0.9123\n",
            "Epoch 144/150\n",
            "70/70 [==============================] - 13s 184ms/step - loss: 0.4826 - accuracy: 0.9101\n",
            "Epoch 145/150\n",
            "70/70 [==============================] - 13s 184ms/step - loss: 0.4625 - accuracy: 0.9145\n",
            "Epoch 146/150\n",
            "70/70 [==============================] - 13s 183ms/step - loss: 0.5210 - accuracy: 0.9043\n",
            "Epoch 147/150\n",
            "70/70 [==============================] - 13s 184ms/step - loss: 0.5664 - accuracy: 0.8846\n",
            "Epoch 148/150\n",
            "70/70 [==============================] - 13s 189ms/step - loss: 0.5482 - accuracy: 0.9002\n",
            "Epoch 149/150\n",
            "70/70 [==============================] - 13s 185ms/step - loss: 0.4764 - accuracy: 0.9123\n",
            "Epoch 150/150\n",
            "70/70 [==============================] - 13s 184ms/step - loss: 0.4569 - accuracy: 0.9119\n"
          ],
          "name": "stdout"
        }
      ]
    },
    {
      "cell_type": "code",
      "metadata": {
        "colab": {
          "base_uri": "https://localhost:8080/",
          "height": 545
        },
        "id": "0_Vsf9vyT0YF",
        "outputId": "fc62ef06-d86e-4035-c488-a8cccf7271bf"
      },
      "source": [
        "\r\n",
        "import matplotlib.pyplot as plt\r\n",
        "acc = history.history['accuracy']\r\n",
        "loss = history.history['loss']\r\n",
        "\r\n",
        "epochs = range(len(acc))\r\n",
        "\r\n",
        "plt.plot(epochs, acc, 'b', label='Training accuracy')\r\n",
        "plt.title('Training accuracy')\r\n",
        "\r\n",
        "plt.figure()\r\n",
        "\r\n",
        "plt.plot(epochs, loss, 'b', label='Training Loss')\r\n",
        "plt.title('Training loss')\r\n",
        "plt.legend()\r\n",
        "\r\n",
        "plt.show()"
      ],
      "execution_count": null,
      "outputs": [
        {
          "output_type": "display_data",
          "data": {
            "image/png": "[encoded data removed]",
            "text/plain": [
              "<Figure size 432x288 with 1 Axes>"
            ]
          },
          "metadata": {
            "tags": [],
            "needs_background": "light"
          }
        },
        {
          "output_type": "display_data",
          "data": {
            "image/png": "[encoded data removed]",
            "text/plain": [
              "<Figure size 432x288 with 1 Axes>"
            ]
          },
          "metadata": {
            "tags": [],
            "needs_background": "light"
          }
        }
      ]
    },
    {
      "cell_type": "code",
      "metadata": {
        "colab": {
          "base_uri": "https://localhost:8080/"
        },
        "id": "O2LukJwad9xl",
        "outputId": "81042445-e309-450d-8b1d-ff373383a146"
      },
      "source": [
        "seed_text = \"elif\"\r\n",
        "next_words = 100\r\n",
        "\r\n",
        "for _ in range(next_words):\r\n",
        "    token_list = tokenizer.texts_to_sequences([seed_text])[0]\r\n",
        "    token_list = pad_sequences([token_list], maxlen=max_sequence_len-1, padding='pre')\r\n",
        "    predicted = model.predict_classes(token_list, verbose=0)\r\n",
        "    output_word = \"\"\r\n",
        "    for word, index in tokenizer.word_index.items():\r\n",
        "        if index == predicted:\r\n",
        "            output_word = word\r\n",
        "            break\r\n",
        "    seed_text += \" \" + output_word\r\n",
        "print(seed_text)\r\n",
        "\r\n",
        "print('\\nBitti')"
      ],
      "execution_count": null,
      "outputs": [
        {
          "output_type": "stream",
          "text": [
            "/usr/local/lib/python3.6/dist-packages/tensorflow/python/keras/engine/sequential.py:450: UserWarning: `model.predict_classes()` is deprecated and will be removed after 2021-01-01. Please use instead:* `np.argmax(model.predict(x), axis=-1)`,   if your model does multi-class classification   (e.g. if it uses a `softmax` last-layer activation).* `(model.predict(x) > 0.5).astype(\"int32\")`,   if your model does binary classification   (e.g. if it uses a `sigmoid` last-layer activation).\n",
            "  warnings.warn('`model.predict_classes()` is deprecated and '\n"
          ],
          "name": "stderr"
        },
        {
          "output_type": "stream",
          "text": [
            "elif dedik hâlâ sana deli dediler gönülden sözü okumadılar donar içim arkada sazım sorarsın cobana sakin yanlis yola basinda ki cobana sakin kanma '' '' ' kan degil '' aksin sonunda ucuz olan hayata deger ver çek bekle '' yok deger asker ezer devriye niye ister kahve yetime gelen zulüm ezer devriye niye ister kahve yetime gelen zulüm iskence var sene 1789 kuduz domuz hirsiz fransiz ihtilali üzdüler zenci kardesleri p cler kene misali emdiler hain köpeklere yönetmelige kisilige saldiri bunu sonu yolu toprak mi hayir evet arada''fol yok yumurta yahudiler firinda yana gurbetteki kardesler hesap etler peace dumanyakstyler kopar cezaaa\n",
            "\n",
            "Bitti\n"
          ],
          "name": "stdout"
        }
      ]
    }
  ]
}